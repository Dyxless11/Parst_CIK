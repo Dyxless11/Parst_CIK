{
 "cells": [
  {
   "cell_type": "code",
   "execution_count": 1,
   "metadata": {},
   "outputs": [],
   "source": [
    "from keras.models import load_model\n",
    "from tensorflow.keras import Sequential\n",
    "from tensorflow.keras.layers import Conv2D, MaxPooling2D, Flatten, Dense, Dropout, Activation, BatchNormalization, AveragePooling2D\n",
    "from tensorflow.keras.optimizers import SGD, RMSprop, Adam\n",
    "\n",
    "from keras.models import load_model\n",
    "from keras.models import model_from_json\n",
    "\n",
    "from PIL import Image\n",
    "import numpy as np\n",
    "from selenium import webdriver\n",
    "import cv2\n",
    "import time\n",
    "from bs4 import BeautifulSoup\n",
    "import pandas as pd\n",
    "from tqdm.notebook import tqdm\n",
    "from selenium.webdriver.chrome.options import Options"
   ]
  },
  {
   "cell_type": "code",
   "execution_count": 2,
   "metadata": {},
   "outputs": [],
   "source": [
    "def mnist_make_model(image_w: int, image_h: int):\n",
    "    # Neural network model\n",
    "    model = Sequential()\n",
    "    model.add(Dense(100, activation='relu', input_shape=(image_w*image_h,)))\n",
    "    model.add(Dense(10, activation='softmax'))\n",
    "    model.compile(loss='categorical_crossentropy', optimizer=RMSprop(), metrics=['accuracy'])\n",
    "    return model"
   ]
  },
  {
   "cell_type": "code",
   "execution_count": 3,
   "metadata": {},
   "outputs": [],
   "source": [
    "model = mnist_make_model(10,10)"
   ]
  },
  {
   "cell_type": "code",
   "execution_count": 4,
   "metadata": {},
   "outputs": [
    {
     "name": "stdout",
     "output_type": "stream",
     "text": [
      "Model successfully loaded\n"
     ]
    }
   ],
   "source": [
    "model.load_weights('model.h5')\n",
    "\n",
    "\n",
    "\n",
    "print('Model successfully loaded')"
   ]
  },
  {
   "cell_type": "code",
   "execution_count": 5,
   "metadata": {},
   "outputs": [],
   "source": [
    "def crop(im):\n",
    "    list_cap = []\n",
    "    im = im.convert(\"P\")\n",
    "    im2 = Image.new(\"P\",im.size,255)\n",
    "\n",
    "    im = im.convert(\"P\")\n",
    "\n",
    "    temp = {}\n",
    "\n",
    "    for x in range(im.size[1]):\n",
    "        for y in range(im.size[0]):\n",
    "            pix = im.getpixel((y,x))\n",
    "            temp[pix] = pix\n",
    "            if pix != 0: # these are the numbers to get\n",
    "                im2.putpixel((y,x),0)\n",
    "    \n",
    "\n",
    "    inletter = False\n",
    "    foundletter=False\n",
    "    start = 0\n",
    "    end = 0\n",
    "    count = 0\n",
    "    letters = []\n",
    "    for y in range(im2.size[0]): # slice across\n",
    "        for x in range(im2.size[1]): # slice down\n",
    "            pix = im2.getpixel((y,x))\n",
    "            if pix != 255:\n",
    "                inletter = True\n",
    "        if foundletter == False and inletter == True:\n",
    "            foundletter = True\n",
    "            start = y\n",
    "\n",
    "        if foundletter == True and inletter == False:\n",
    "            foundletter = False\n",
    "            end = y\n",
    "            letters.append((start,end))\n",
    "\n",
    "        inletter=False\n",
    "\n",
    "    for letter in letters:\n",
    "        im3 = im2.crop(( letter[0] , 0, letter[1],im2.size[1] ))\n",
    "        im3 = im3.transpose(Image.ROTATE_90)\n",
    "\n",
    "        letters1 = []\n",
    "\n",
    "        for y in range(im3.size[0]): # slice across\n",
    "            for x in range(im3.size[1]): # slice down\n",
    "                pix = im3.getpixel((y,x))\n",
    "                if pix != 255:\n",
    "                    inletter = True\n",
    "            if foundletter == False and inletter == True:\n",
    "                foundletter = True\n",
    "                start = y\n",
    "\n",
    "            if foundletter == True and inletter == False:\n",
    "                foundletter = False\n",
    "                end = y\n",
    "                letters1.append((start,end))\n",
    "\n",
    "            inletter=False\n",
    "\n",
    "        for letter in letters1:\n",
    "            im4 = im3.crop(( letter[0] , 0, letter[1],im3.size[1] ))\n",
    "        im4 = im4.transpose(Image.ROTATE_270)\n",
    "        resized_img = im4.resize((10, 10), Image.ANTIALIAS)\n",
    "        img_arr = np.array(resized_img)/255\n",
    "        img_arr = img_arr.reshape((1, 10*10))\n",
    "        list_cap.append(model.predict_classes([img_arr])[0])\n",
    "    return ''.join([str(elem) for elem in list_cap])"
   ]
  },
  {
   "cell_type": "code",
   "execution_count": 6,
   "metadata": {},
   "outputs": [],
   "source": [
    "def get_captcha(driver):\n",
    "    with open('snt.png', 'wb') as file:\n",
    "        file.write(driver.find_element_by_xpath('//*[@id=\"captchaImg\"]').screenshot_as_png)\n",
    "    im2 = Image.open('/Users/aleksejkudrasov/Downloads/solving_captchas_code_examples/snt.png')\n",
    "    return im2"
   ]
  },
  {
   "cell_type": "code",
   "execution_count": 7,
   "metadata": {},
   "outputs": [],
   "source": [
    "# chrome_options = Options()\n",
    "# chrome_options.add_argument(\"--headless\")\n",
    "driver = webdriver.Chrome('/Users/aleksejkudrasov/Downloads/chromedriver')"
   ]
  },
  {
   "cell_type": "code",
   "execution_count": 8,
   "metadata": {},
   "outputs": [],
   "source": [
    "df_table = []\n",
    "driver.get('http://www.vybory.izbirkom.ru')\n",
    "driver.find_element_by_xpath('/html/body/table[2]/tbody/tr[2]/td/center/table/tbody/tr[2]/td/div/table/tbody/tr[3]/td[3]').click()\n",
    "html = driver.page_source\n",
    "soup = BeautifulSoup(html, 'html.parser')\n",
    "list_a = soup.find_all('table')[1].find_all('a')\n",
    "for a in list_a:\n",
    "    name = a.text\n",
    "    link = a['href']\n",
    "    df_table.append([name,link])\n",
    "df_table = pd.DataFrame(df_table, columns = ['name','link'])"
   ]
  },
  {
   "cell_type": "code",
   "execution_count": null,
   "metadata": {},
   "outputs": [
    {
     "data": {
      "application/vnd.jupyter.widget-view+json": {
       "model_id": "99978f2aba4a4cf58ac4167d5ddafcdb",
       "version_major": 2,
       "version_minor": 0
      },
      "text/plain": [
       "HBox(children=(FloatProgress(value=1.0, bar_style='info', max=1.0), HTML(value='')))"
      ]
     },
     "metadata": {},
     "output_type": "display_data"
    }
   ],
   "source": [
    "for index, line in merge.iterrows():\n",
    "    if line['link_x'] == 'None':\n",
    "        driver.get(line['link_y'])\n",
    "        time.sleep(0.6)\n",
    "        captcha = crop(get_captcha(driver))\n",
    "        driver.find_element_by_xpath('//*[@id=\"captcha\"]').send_keys(captcha)\n",
    "        driver.find_element_by_xpath('//*[@id=\"send\"]').click()\n",
    "        time.sleep(0.6)\n",
    "        html = driver.page_source\n",
    "        soup = BeautifulSoup(html, 'html.parser')          \n",
    "        for i in range(len(soup.find_all('tr'))):\n",
    "            if '\\nРЕЗУЛЬТАТЫ ВЫБОРОВ\\n' == soup.find_all('tr')[i].text:\n",
    "                rez_link = soup.find_all('tr')[i+1].find('a')['href']\n",
    "        driver.get(rez_link)\n",
    "        time.sleep(0.6)\n",
    "        captcha = crop(get_captcha(driver))\n",
    "        driver.find_element_by_xpath('//*[@id=\"captcha\"]').send_keys(captcha)\n",
    "        driver.find_element_by_xpath('//*[@id=\"send\"]').click()\n",
    "        time.sleep(0.6)\n",
    "        table_result = []\n",
    "        tbody = soup.find_all('tbody')\n",
    "        list_tr = tbody[1].find_all('tr')\n",
    "        ful_name = list_tr[0].text\n",
    "        table_result = []\n",
    "        for table in list_tr[3].find_all('table'):\n",
    "            if len(table.find_all('tr'))>5:\n",
    "                for tr in table.find_all('tr'):\n",
    "                    snt_tr = []\n",
    "                    for td in tr.find_all('td'):\n",
    "                        snt_tr.append(td.text.strip())\n",
    "                    table_result.append(snt_tr)\n",
    "        head_name = line['name']\n",
    "        child_name = ''\n",
    "        result_table.append([line['name'],line['link_y'],rez_link,head_name,child_name,ful_name,pd.DataFrame(line, columns = ['index', 'name','count'])])\n",
    "    else:\n",
    "        driver.get(line['link_x'])\n",
    "        time.sleep(1)\n",
    "        captcha = crop(get_captcha(driver))\n",
    "        driver.find_element_by_xpath('//*[@id=\"captcha\"]').send_keys(captcha)\n",
    "        driver.find_element_by_xpath('//*[@id=\"send\"]').click()\n",
    "        time.sleep(1)\n",
    "        try:\n",
    "            driver.find_element_by_xpath('/html/body/table[2]/tbody/tr[2]/td/form/select')\n",
    "            options = [x for x in driver.find_elements_by_tag_name(\"option\")]\n",
    "            for element in options:\n",
    "                if '-' in element.get_attribute(\"value\"):\n",
    "                    continue\n",
    "                else:\n",
    "                    head_name = element.text\n",
    "                    driver.get(element.get_attribute(\"value\"))\n",
    "                    time.sleep(1)\n",
    "                    captcha = crop(get_captcha(driver))\n",
    "                    driver.find_element_by_xpath('//*[@id=\"captcha\"]').send_keys(captcha)\n",
    "                    driver.find_element_by_xpath('//*[@id=\"send\"]').click()\n",
    "                    time.sleep(1)\n",
    "                    html = driver.page_source\n",
    "                    soup = BeautifulSoup(html, 'html.parser')          \n",
    "                    for i in range(len(soup.find_all('tr'))):\n",
    "                        if '\\nРЕЗУЛЬТАТЫ ВЫБОРОВ\\n' == soup.find_all('tr')[i].text:\n",
    "                            rez_link = soup.find_all('tr')[i+1].find('a')['href']\n",
    "                    driver.get(rez_link)\n",
    "                    captcha = crop(get_captcha(driver))\n",
    "                    driver.find_element_by_xpath('//*[@id=\"captcha\"]').send_keys(captcha)\n",
    "                    driver.find_element_by_xpath('//*[@id=\"send\"]').click()\n",
    "                    time.sleep(1)\n",
    "                    table_result = []\n",
    "                    tbody = soup.find_all('tbody')\n",
    "                    list_tr = tbody[1].find_all('tr')\n",
    "                    ful_name = list_tr[0].text\n",
    "                    table_result = []\n",
    "                    for table in list_tr[3].find_all('table'):\n",
    "                        if len(table.find_all('tr'))>5:\n",
    "                            for tr in table.find_all('tr'):\n",
    "                                snt_tr = []\n",
    "                                for td in tr.find_all('td'):\n",
    "                                    snt_tr.append(td.text.strip())\n",
    "                                table_result.append(snt_tr)\n",
    "                    child_name = ''\n",
    "                    merge.loc[index,'result_table'] = pd.DataFrame(table_result, columns = ['index','row_name','count'])\n",
    "                    result_table.append([line['name'],line['link_y'],rez_link,head_name,child_name,ful_name,pd.DataFrame(line, columns = ['index', 'name','count'])])\n",
    "                    driver.find_element_by_xpath('/html/body/table[2]/tbody/tr[2]/td/form/select')\n",
    "                    options1 = [x for x in driver.find_elements_by_tag_name(\"option\")]\n",
    "                    list_link = []\n",
    "                    for element1 in options1:\n",
    "                        if '-' in element1.get_attribute(\"value\"):\n",
    "                            continue\n",
    "                        else:\n",
    "                            list_link.append([element1.text, element1.get_attribute(\"value\")])\n",
    "                    for element1 in list_link:\n",
    "                        child_name = element1[0]\n",
    "                        driver.get(element1[1])\n",
    "                        time.sleep(1)\n",
    "                        captcha = crop(get_captcha(driver))\n",
    "                        driver.find_element_by_xpath('//*[@id=\"captcha\"]').send_keys(captcha)\n",
    "                        driver.find_element_by_xpath('//*[@id=\"send\"]').click()\n",
    "                        time.sleep(1)\n",
    "                        try :\n",
    "                            driver.find_element_by_xpath('//*[@id=\"captchaRes\"]')\n",
    "                            time.sleep(1)\n",
    "                            captcha = crop(get_captcha(driver))\n",
    "                            driver.find_element_by_xpath('//*[@id=\"captcha\"]').send_keys(captcha)\n",
    "                            driver.find_element_by_xpath('//*[@id=\"send\"]').click()\n",
    "                            time.sleep(1)\n",
    "                        except:\n",
    "                            html = driver.page_source\n",
    "                            soup = BeautifulSoup(html, 'html.parser')          \n",
    "                            for i in range(len(soup.find_all('tr'))):\n",
    "                                if '\\nРЕЗУЛЬТАТЫ ВЫБОРОВ\\n' == soup.find_all('tr')[i].text:\n",
    "                                    rez_link = soup.find_all('tr')[i+1].find('a')['href']\n",
    "                            driver.get(rez_link)\n",
    "                            time.sleep(1)\n",
    "                            captcha = crop(get_captcha(driver))\n",
    "                            driver.find_element_by_xpath('//*[@id=\"captcha\"]').send_keys(captcha)\n",
    "                            driver.find_element_by_xpath('//*[@id=\"send\"]').click()\n",
    "                            time.sleep(1)\n",
    "                            table_result = []\n",
    "                            tbody = soup.find_all('tbody')\n",
    "                            list_tr = tbody[1].find_all('tr')\n",
    "                            ful_name = list_tr[0].text\n",
    "                            table_result = []\n",
    "                            for table in list_tr[3].find_all('table'):\n",
    "                                if len(table.find_all('tr'))>5:\n",
    "                                    for tr in table.find_all('tr'):\n",
    "                                        snt_tr = []\n",
    "                                        for td in tr.find_all('td'):\n",
    "                                            snt_tr.append(td.text.strip())\n",
    "                                        table_result.append(snt_tr)\n",
    "                            merge.loc[index,'result_table'] = pd.DataFrame(table_result, columns = ['index','row_name','count'])\n",
    "                            result_table.append([line['name'],line['link_y'],rez_link,head_name,child_name,ful_name,pd.DataFrame(line, columns = ['index', 'name','count'])])\n",
    "        except:\n",
    "            html = driver.page_source\n",
    "            soup = BeautifulSoup(html, 'html.parser')          \n",
    "            for i in range(len(soup.find_all('tr'))):\n",
    "                if '\\nРЕЗУЛЬТАТЫ ВЫБОРОВ\\n' == soup.find_all('tr')[i].text:\n",
    "                    rez_link = soup.find_all('tr')[i+1].find('a')['href']\n",
    "            driver.get(rez_link)\n",
    "            time.sleep(0.6)\n",
    "            captcha = crop(get_captcha(driver))\n",
    "            driver.find_element_by_xpath('//*[@id=\"captcha\"]').send_keys(captcha)\n",
    "            driver.find_element_by_xpath('//*[@id=\"send\"]').click()\n",
    "            time.sleep(0.6)\n",
    "            try :\n",
    "                driver.find_element_by_xpath('//*[@id=\"captchaRes\"]')\n",
    "                time.sleep(1)\n",
    "                captcha = crop(get_captcha(driver))\n",
    "                driver.find_element_by_xpath('//*[@id=\"captcha\"]').send_keys(captcha)\n",
    "                driver.find_element_by_xpath('//*[@id=\"send\"]').click()\n",
    "                time.sleep(1)\n",
    "            except:\n",
    "                table_result = []\n",
    "                tbody = soup.find_all('tbody')\n",
    "                list_tr = tbody[1].find_all('tr')\n",
    "                ful_name = list_tr[0].text\n",
    "                table_result = []\n",
    "                for table in list_tr[3].find_all('table'):\n",
    "                    if len(table.find_all('tr'))>5:\n",
    "                        for tr in table.find_all('tr'):\n",
    "                            snt_tr = []\n",
    "                            for td in tr.find_all('td'):\n",
    "                                snt_tr.append(td.text.strip())\n",
    "                            table_result.append(snt_tr)\n",
    "                head_name = line['name']\n",
    "                child_name = ''\n",
    "                result_table.append([line['name'],line['link_y'],rez_link,head_name,child_name,ful_name,pd.DataFrame(line, columns = ['index', 'name','count'])])"
   ]
  },
  {
   "cell_type": "code",
   "execution_count": 21,
   "metadata": {},
   "outputs": [
    {
     "name": "stdout",
     "output_type": "stream",
     "text": [
      "WARNING:tensorflow:From <ipython-input-5-d5f3b36c515a>:68: Sequential.predict_classes (from tensorflow.python.keras.engine.sequential) is deprecated and will be removed after 2021-01-01.\n",
      "Instructions for updating:\n",
      "Please use instead:* `np.argmax(model.predict(x), axis=-1)`,   if your model does multi-class classification   (e.g. if it uses a `softmax` last-layer activation).* `(model.predict(x) > 0.5).astype(\"int32\")`,   if your model does binary classification   (e.g. if it uses a `sigmoid` last-layer activation).\n"
     ]
    }
   ],
   "source": [
    "driver.get(df_table['link'][0])\n",
    "captcha = crop(get_captcha(driver))\n",
    "driver.find_element_by_xpath('//*[@id=\"captcha\"]').send_keys(captcha)\n",
    "driver.find_element_by_xpath('//*[@id=\"send\"]').click()"
   ]
  },
  {
   "cell_type": "code",
   "execution_count": 22,
   "metadata": {},
   "outputs": [
    {
     "data": {
      "text/plain": [
       "<selenium.webdriver.remote.webelement.WebElement (session=\"05dd4e7209f1d80db380aaadf6d1fc47\", element=\"a7d09f04-cae9-45af-932e-6452bfa6c284\")>"
      ]
     },
     "execution_count": 22,
     "metadata": {},
     "output_type": "execute_result"
    }
   ],
   "source": [
    "driver.find_element_by_xpath('/html/body/table[2]/tbody/tr[2]/td/form/select')"
   ]
  },
  {
   "cell_type": "code",
   "execution_count": 23,
   "metadata": {},
   "outputs": [],
   "source": [
    "options = [x for x in driver.find_elements_by_tag_name(\"option\")]"
   ]
  },
  {
   "cell_type": "code",
   "execution_count": 25,
   "metadata": {},
   "outputs": [
    {
     "name": "stdout",
     "output_type": "stream",
     "text": [
      " Республика Татарстан (Татарстан) http://www.vybory.izbirkom.ru/region/izbirkom?action=show&global=true&root=1000001&tvd=100100193997667&vrn=100100193997657&prver=0&pronetvd=0&region=0&sub_region=0&type=0&vibid=100100193997667\n",
      " Курская область http://www.vybory.izbirkom.ru/region/izbirkom?action=show&global=true&root=1000042&tvd=100100193998241&vrn=100100193997657&prver=0&pronetvd=0&region=0&sub_region=0&type=0&vibid=100100193998241\n",
      " Пензенская область http://www.vybory.izbirkom.ru/region/izbirkom?action=show&global=true&root=1000146&tvd=100100193998921&vrn=100100193997657&prver=0&pronetvd=0&region=0&sub_region=0&type=0&vibid=100100193998921\n",
      " Ярославская область http://www.vybory.izbirkom.ru/region/izbirkom?action=show&global=true&root=1000195&tvd=100100193999505&vrn=100100193997657&prver=0&pronetvd=0&region=0&sub_region=0&type=0&vibid=100100193999505\n"
     ]
    }
   ],
   "source": [
    "for element in options:\n",
    "    if '-' in element.get_attribute(\"value\"):\n",
    "        continue\n",
    "    else:\n",
    "        print (element.text,element.get_attribute(\"value\"))"
   ]
  },
  {
   "cell_type": "code",
   "execution_count": 53,
   "metadata": {},
   "outputs": [
    {
     "data": {
      "text/plain": [
       "'Дополнительные выборы депутатов Государственной Думы Федерального Собрания Российской Федерации седьмого созыва по одномандатным избирательным округам'"
      ]
     },
     "execution_count": 53,
     "metadata": {},
     "output_type": "execute_result"
    }
   ],
   "source": [
    "df_table['name'][0]"
   ]
  },
  {
   "cell_type": "code",
   "execution_count": null,
   "metadata": {},
   "outputs": [],
   "source": [
    "/html/body/table[2]/tbody/tr[2]/td/center/table/tbody/tr[2]/td/div/table/tbody/tr[3]/td[1]"
   ]
  },
  {
   "cell_type": "code",
   "execution_count": 192,
   "metadata": {},
   "outputs": [],
   "source": [
    "im2 = Image.open('/Users/aleksejkudrasov/Downloads/solving_captchas_code_examples/filename.png')"
   ]
  },
  {
   "cell_type": "code",
   "execution_count": 199,
   "metadata": {},
   "outputs": [
    {
     "data": {
      "image/png": "[encoded data removed]",
      "text/plain": [
       "<PIL.PngImagePlugin.PngImageFile image mode=RGB size=130x50 at 0x7FBF284A3580>"
      ]
     },
     "execution_count": 199,
     "metadata": {},
     "output_type": "execute_result"
    }
   ],
   "source": [
    "im2"
   ]
  },
  {
   "cell_type": "code",
   "execution_count": 195,
   "metadata": {},
   "outputs": [
    {
     "data": {
      "image/png": "[encoded data removed]",
      "text/plain": [
       "<PIL.Image.Image image mode=RGB size=130x50 at 0x7FBF29D724C0>"
      ]
     },
     "execution_count": 195,
     "metadata": {},
     "output_type": "execute_result"
    }
   ],
   "source": [
    "iz"
   ]
  },
  {
   "cell_type": "code",
   "execution_count": null,
   "metadata": {},
   "outputs": [],
   "source": []
  }
 ],
 "metadata": {
  "kernelspec": {
   "display_name": "Python 3",
   "language": "python",
   "name": "python3"
  },
  "language_info": {
   "codemirror_mode": {
    "name": "ipython",
    "version": 3
   },
   "file_extension": ".py",
   "mimetype": "text/x-python",
   "name": "python",
   "nbconvert_exporter": "python",
   "pygments_lexer": "ipython3",
   "version": "3.8.3"
  }
 },
 "nbformat": 4,
 "nbformat_minor": 4
}
